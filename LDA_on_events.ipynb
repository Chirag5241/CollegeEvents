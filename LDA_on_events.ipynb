{
 "cells": [
  {
   "cell_type": "code",
   "execution_count": 64,
   "id": "c009f558",
   "metadata": {},
   "outputs": [],
   "source": [
    "# more common imports\n",
    "import pandas as pd\n",
    "import numpy as np\n",
    "from collections import Counter\n",
    "import re\n",
    "\n",
    "# languange processing imports\n",
    "import nltk\n",
    "from gensim.corpora import Dictionary\n",
    "# preprocessing imports\n",
    "from sklearn.preprocessing import LabelEncoder\n",
    "\n",
    "# model imports\n",
    "from gensim.models.ldamulticore import LdaMulticore\n",
    "from gensim.models.word2vec import Word2Vec\n",
    "from sklearn.ensemble import RandomForestClassifier, AdaBoostClassifier\n",
    "from sklearn.linear_model import LogisticRegression\n",
    "# hyperparameter training imports\n",
    "from sklearn.model_selection import GridSearchCV\n",
    "\n",
    "# visualization imports\n",
    "from IPython.display import display\n",
    "import seaborn as sns\n",
    "import matplotlib.pyplot as plt\n",
    "import matplotlib.image as mpimg\n",
    "import base64\n",
    "import io\n",
    "%matplotlib inline\n",
    "sns.set()  # defines the style of the plots to be seaborn style\n",
    "import json\n",
    "from pprint import pprint\n"
   ]
  },
  {
   "cell_type": "code",
   "execution_count": 34,
   "id": "aa8ab380",
   "metadata": {},
   "outputs": [
    {
     "data": {
      "text/plain": [
       "dict_keys(['id', 'text', 'author'])"
      ]
     },
     "execution_count": 34,
     "metadata": {},
     "output_type": "execute_result"
    }
   ],
   "source": [
    "f = open('messages_w_time.json')\n",
    "data = json.load(f)\n",
    "data.keys()"
   ]
  },
  {
   "cell_type": "code",
   "execution_count": 35,
   "id": "0b5c818d",
   "metadata": {},
   "outputs": [],
   "source": [
    "# create DF from data\n",
    "train_data = pd.DataFrame.from_dict(data)\n",
    "data_for_plot = pd.DataFrame.from_dict(data)"
   ]
  },
  {
   "cell_type": "code",
   "execution_count": 36,
   "id": "dd7cfc81",
   "metadata": {},
   "outputs": [
    {
     "data": {
      "text/html": [
       "<div>\n",
       "<style scoped>\n",
       "    .dataframe tbody tr th:only-of-type {\n",
       "        vertical-align: middle;\n",
       "    }\n",
       "\n",
       "    .dataframe tbody tr th {\n",
       "        vertical-align: top;\n",
       "    }\n",
       "\n",
       "    .dataframe thead th {\n",
       "        text-align: right;\n",
       "    }\n",
       "</style>\n",
       "<table border=\"1\" class=\"dataframe\">\n",
       "  <thead>\n",
       "    <tr style=\"text-align: right;\">\n",
       "      <th></th>\n",
       "      <th>id</th>\n",
       "      <th>text</th>\n",
       "      <th>author</th>\n",
       "    </tr>\n",
       "  </thead>\n",
       "  <tbody>\n",
       "    <tr>\n",
       "      <th>0</th>\n",
       "      <td>897575377336148008</td>\n",
       "      <td>@everyone Just a quick reminder that our meeti...</td>\n",
       "      <td>UIUC GeoClub</td>\n",
       "    </tr>\n",
       "    <tr>\n",
       "      <th>1</th>\n",
       "      <td>897909470028529684</td>\n",
       "      <td>@everyone Just a reminder to that our Kickapoo...</td>\n",
       "      <td>UIUC GeoClub</td>\n",
       "    </tr>\n",
       "    <tr>\n",
       "      <th>2</th>\n",
       "      <td>901966694635954236</td>\n",
       "      <td>@everyone  we are having some technical diffic...</td>\n",
       "      <td>UIUC GeoClub</td>\n",
       "    </tr>\n",
       "    <tr>\n",
       "      <th>3</th>\n",
       "      <td>935259795005509652</td>\n",
       "      <td>@everyone hi everyone! If you haven't heard al...</td>\n",
       "      <td>UIUC GeoClub</td>\n",
       "    </tr>\n",
       "    <tr>\n",
       "      <th>4</th>\n",
       "      <td>940631562272268329</td>\n",
       "      <td>@everyone Just a quick reminder that the first...</td>\n",
       "      <td>UIUC GeoClub</td>\n",
       "    </tr>\n",
       "    <tr>\n",
       "      <th>...</th>\n",
       "      <td>...</td>\n",
       "      <td>...</td>\n",
       "      <td>...</td>\n",
       "    </tr>\n",
       "    <tr>\n",
       "      <th>1941</th>\n",
       "      <td>971904632676818944</td>\n",
       "      <td>u guys good with going at 7 tomorrow? or 6? i’...</td>\n",
       "      <td>loanly</td>\n",
       "    </tr>\n",
       "    <tr>\n",
       "      <th>1942</th>\n",
       "      <td>972020510194036807</td>\n",
       "      <td>7 pm tomorrow</td>\n",
       "      <td>loanly</td>\n",
       "    </tr>\n",
       "    <tr>\n",
       "      <th>1943</th>\n",
       "      <td>974387641237778502</td>\n",
       "      <td>I got an astronomy test at 8 am tomorrow man</td>\n",
       "      <td>loanly</td>\n",
       "    </tr>\n",
       "    <tr>\n",
       "      <th>1944</th>\n",
       "      <td>974771470377037944</td>\n",
       "      <td>I'm just planning to leave before 3 PM tomorrow</td>\n",
       "      <td>loanly</td>\n",
       "    </tr>\n",
       "    <tr>\n",
       "      <th>1945</th>\n",
       "      <td>974836589215764500</td>\n",
       "      <td>I'm leaving at 11am tomorrow</td>\n",
       "      <td>loanly</td>\n",
       "    </tr>\n",
       "  </tbody>\n",
       "</table>\n",
       "<p>1946 rows × 3 columns</p>\n",
       "</div>"
      ],
      "text/plain": [
       "                      id                                               text  \\\n",
       "0     897575377336148008  @everyone Just a quick reminder that our meeti...   \n",
       "1     897909470028529684  @everyone Just a reminder to that our Kickapoo...   \n",
       "2     901966694635954236  @everyone  we are having some technical diffic...   \n",
       "3     935259795005509652  @everyone hi everyone! If you haven't heard al...   \n",
       "4     940631562272268329  @everyone Just a quick reminder that the first...   \n",
       "...                  ...                                                ...   \n",
       "1941  971904632676818944  u guys good with going at 7 tomorrow? or 6? i’...   \n",
       "1942  972020510194036807                                      7 pm tomorrow   \n",
       "1943  974387641237778502       I got an astronomy test at 8 am tomorrow man   \n",
       "1944  974771470377037944    I'm just planning to leave before 3 PM tomorrow   \n",
       "1945  974836589215764500                       I'm leaving at 11am tomorrow   \n",
       "\n",
       "            author  \n",
       "0     UIUC GeoClub  \n",
       "1     UIUC GeoClub  \n",
       "2     UIUC GeoClub  \n",
       "3     UIUC GeoClub  \n",
       "4     UIUC GeoClub  \n",
       "...            ...  \n",
       "1941        loanly  \n",
       "1942        loanly  \n",
       "1943        loanly  \n",
       "1944        loanly  \n",
       "1945        loanly  \n",
       "\n",
       "[1946 rows x 3 columns]"
      ]
     },
     "execution_count": 36,
     "metadata": {},
     "output_type": "execute_result"
    }
   ],
   "source": [
    "train_data"
   ]
  },
  {
   "cell_type": "code",
   "execution_count": 13,
   "id": "23e8e831",
   "metadata": {},
   "outputs": [
    {
     "name": "stdout",
     "output_type": "stream",
     "text": [
      "The average number of words in a document is: 72.58941418293936.\n",
      "The minimum number of words in a document is: 1.\n",
      "The maximum number of words in a document is: 774.\n"
     ]
    }
   ],
   "source": [
    "document_lengths = np.array(list(map(len, train_data.text.str.split(' '))))\n",
    "\n",
    "print(\"The average number of words in a document is: {}.\".format(np.mean(document_lengths)))\n",
    "print(\"The minimum number of words in a document is: {}.\".format(min(document_lengths)))\n",
    "print(\"The maximum number of words in a document is: {}.\".format(max(document_lengths)))"
   ]
  },
  {
   "cell_type": "code",
   "execution_count": 14,
   "id": "f70dc97d",
   "metadata": {},
   "outputs": [
    {
     "name": "stderr",
     "output_type": "stream",
     "text": [
      "Fontconfig warning: ignoring UTF-8: not a valid region tag\n",
      "/Users/chiragrastogi/opt/anaconda3/lib/python3.9/site-packages/seaborn/distributions.py:2619: FutureWarning: `distplot` is a deprecated function and will be removed in a future version. Please adapt your code to use either `displot` (a figure-level function with similar flexibility) or `histplot` (an axes-level function for histograms).\n",
      "  warnings.warn(msg, FutureWarning)\n"
     ]
    },
    {
     "data": {
      "image/png": "[encoded data removed]",
      "text/plain": [
       "<Figure size 1080x432 with 1 Axes>"
      ]
     },
     "metadata": {},
     "output_type": "display_data"
    }
   ],
   "source": [
    "fig, ax = plt.subplots(figsize=(15,6))\n",
    "\n",
    "ax.set_title(\"Distribution of number of words\", fontsize=16)\n",
    "ax.set_xlabel(\"Number of words\")\n",
    "sns.distplot(document_lengths, bins=50, ax=ax);"
   ]
  },
  {
   "cell_type": "code",
   "execution_count": 15,
   "id": "40c61b24",
   "metadata": {},
   "outputs": [
    {
     "name": "stdout",
     "output_type": "stream",
     "text": [
      "There are 23 documents with over 300 words.\n"
     ]
    }
   ],
   "source": [
    "print(\"There are {} documents with over 300 words.\".format(sum(document_lengths > 300)))\n",
    "\n",
    "shorter_documents = document_lengths[document_lengths <= 300]"
   ]
  },
  {
   "cell_type": "code",
   "execution_count": 16,
   "id": "42889101",
   "metadata": {},
   "outputs": [
    {
     "name": "stderr",
     "output_type": "stream",
     "text": [
      "/Users/chiragrastogi/opt/anaconda3/lib/python3.9/site-packages/seaborn/distributions.py:2619: FutureWarning: `distplot` is a deprecated function and will be removed in a future version. Please adapt your code to use either `displot` (a figure-level function with similar flexibility) or `histplot` (an axes-level function for histograms).\n",
      "  warnings.warn(msg, FutureWarning)\n"
     ]
    },
    {
     "data": {
      "image/png": "[encoded data removed]",
      "text/plain": [
       "<Figure size 1080x432 with 1 Axes>"
      ]
     },
     "metadata": {},
     "output_type": "display_data"
    }
   ],
   "source": [
    "fig, ax = plt.subplots(figsize=(15,6))\n",
    "\n",
    "ax.set_title(\"Distribution of number of words\", fontsize=16)\n",
    "ax.set_xlabel(\"Number of words\")\n",
    "sns.distplot(shorter_documents, bins=50, ax=ax);"
   ]
  },
  {
   "cell_type": "code",
   "execution_count": 17,
   "id": "1de24781",
   "metadata": {},
   "outputs": [
    {
     "name": "stdout",
     "output_type": "stream",
     "text": [
      "There are 23 documents with tops 5 words.\n"
     ]
    }
   ],
   "source": [
    "print(\"There are {} documents with tops 5 words.\".format(sum(document_lengths <= 5)))"
   ]
  },
  {
   "cell_type": "code",
   "execution_count": 18,
   "id": "a941e00e",
   "metadata": {},
   "outputs": [
    {
     "data": {
      "text/html": [
       "<div>\n",
       "<style scoped>\n",
       "    .dataframe tbody tr th:only-of-type {\n",
       "        vertical-align: middle;\n",
       "    }\n",
       "\n",
       "    .dataframe tbody tr th {\n",
       "        vertical-align: top;\n",
       "    }\n",
       "\n",
       "    .dataframe thead th {\n",
       "        text-align: right;\n",
       "    }\n",
       "</style>\n",
       "<table border=\"1\" class=\"dataframe\">\n",
       "  <thead>\n",
       "    <tr style=\"text-align: right;\">\n",
       "      <th></th>\n",
       "      <th>id</th>\n",
       "      <th>text</th>\n",
       "      <th>author</th>\n",
       "    </tr>\n",
       "  </thead>\n",
       "  <tbody>\n",
       "    <tr>\n",
       "      <th>1917</th>\n",
       "      <td>898249016121393154</td>\n",
       "      <td>9:30 tonight?</td>\n",
       "      <td>loanly</td>\n",
       "    </tr>\n",
       "    <tr>\n",
       "      <th>1924</th>\n",
       "      <td>942551240544505957</td>\n",
       "      <td>4pm tomorrow</td>\n",
       "      <td>loanly</td>\n",
       "    </tr>\n",
       "  </tbody>\n",
       "</table>\n",
       "</div>"
      ],
      "text/plain": [
       "                      id           text  author\n",
       "1917  898249016121393154  9:30 tonight?  loanly\n",
       "1924  942551240544505957   4pm tomorrow  loanly"
      ]
     },
     "execution_count": 18,
     "metadata": {},
     "output_type": "execute_result"
    }
   ],
   "source": [
    "train_data[document_lengths == 2]"
   ]
  },
  {
   "cell_type": "code",
   "execution_count": 37,
   "id": "63090a20",
   "metadata": {},
   "outputs": [
    {
     "name": "stdout",
     "output_type": "stream",
     "text": [
      "Replaced 1465 words with characters with an ordinal >= 128 in the train data.\n"
     ]
    }
   ],
   "source": [
    "def remove_ascii_words(df):\n",
    "    \"\"\" removes non-ascii characters from the 'texts' column in df.\n",
    "    It returns the words containig non-ascii characers.\n",
    "    \"\"\"\n",
    "    non_ascii_words = []\n",
    "    for i in range(len(df)):\n",
    "        for word in df.loc[i, 'text'].split(' '):\n",
    "            if any([ord(character) >= 128 for character in word]):\n",
    "                non_ascii_words.append(word)\n",
    "                df.loc[i, 'text'] = df.loc[i, 'text'].replace(word, \"#\")\n",
    "    return non_ascii_words\n",
    "\n",
    "non_ascii_words = remove_ascii_words(train_data)\n",
    "\n",
    "print(\"Replaced {} words with characters with an ordinal >= 128 in the train data.\".format(\n",
    "    len(non_ascii_words)))"
   ]
  },
  {
   "cell_type": "code",
   "execution_count": 38,
   "id": "d7e1b339",
   "metadata": {},
   "outputs": [],
   "source": [
    "def get_good_tokens(sentence):\n",
    "    replaced_punctation = list(map(lambda token: re.sub('[^0-9A-Za-z!?]+', '', token), sentence))\n",
    "    removed_punctation = list(filter(lambda token: token, replaced_punctation))\n",
    "    return removed_punctation"
   ]
  },
  {
   "cell_type": "code",
   "execution_count": 39,
   "id": "a0ac6760",
   "metadata": {},
   "outputs": [],
   "source": [
    "def w2v_preprocessing(df):\n",
    "    \"\"\" All the preprocessing steps for word2vec are done in this function.\n",
    "    All mutations are done on the dataframe itself. So this function returns\n",
    "    nothing.\n",
    "    \"\"\"\n",
    "    df['text'] = df.text.str.lower()\n",
    "    df['document_sentences'] = df.text.str.split('.')  # split texts into individual sentences\n",
    "    df['tokenized_sentences'] = list(map(lambda sentences:\n",
    "                                         list(map(nltk.word_tokenize, sentences)),\n",
    "                                         df.document_sentences))  # tokenize sentences\n",
    "    df['tokenized_sentences'] = list(map(lambda sentences:\n",
    "                                         list(map(get_good_tokens, sentences)),\n",
    "                                         df.tokenized_sentences))  # remove unwanted characters\n",
    "    df['tokenized_sentences'] = list(map(lambda sentences:\n",
    "                                         list(filter(lambda lst: lst, sentences)),\n",
    "                                         df.tokenized_sentences))  # remove empty lists\n",
    "\n",
    "w2v_preprocessing(train_data)"
   ]
  },
  {
   "cell_type": "code",
   "execution_count": 40,
   "id": "069f0dfd",
   "metadata": {},
   "outputs": [],
   "source": [
    "def lda_get_good_tokens(df):\n",
    "    df['text'] = df.text.str.lower()\n",
    "    df['tokenized_text'] = list(map(nltk.word_tokenize, df.text))\n",
    "    df['tokenized_text'] = list(map(get_good_tokens, df.tokenized_text))\n",
    "\n",
    "lda_get_good_tokens(train_data)"
   ]
  },
  {
   "cell_type": "code",
   "execution_count": 41,
   "id": "ad8c0ce1",
   "metadata": {},
   "outputs": [],
   "source": [
    "tokenized_only_dict = Counter(np.concatenate(train_data.tokenized_text.values))\n",
    "\n",
    "tokenized_only_df = pd.DataFrame.from_dict(tokenized_only_dict, orient='index')\n",
    "tokenized_only_df.rename(columns={0: 'count'}, inplace=True)"
   ]
  },
  {
   "cell_type": "code",
   "execution_count": 42,
   "id": "204f75fe",
   "metadata": {},
   "outputs": [],
   "source": [
    "tokenized_only_df.sort_values('count', ascending=False, inplace=True)"
   ]
  },
  {
   "cell_type": "code",
   "execution_count": 43,
   "id": "c1131018",
   "metadata": {},
   "outputs": [
    {
     "name": "stderr",
     "output_type": "stream",
     "text": [
      "/Users/chiragrastogi/opt/anaconda3/lib/python3.9/site-packages/seaborn/_decorators.py:36: FutureWarning: Pass the following variables as keyword args: x, y. From version 0.12, the only valid positional argument will be `data`, and passing other arguments without an explicit keyword will result in an error or misinterpretation.\n",
      "  warnings.warn(\n"
     ]
    },
    {
     "data": {
      "image/png": "[encoded data removed]",
      "text/plain": [
       "<Figure size 1440x360 with 1 Axes>"
      ]
     },
     "metadata": {},
     "output_type": "display_data"
    }
   ],
   "source": [
    "def word_frequency_barplot(df, nr_top_words=50):\n",
    "    \"\"\" df should have a column named count.\n",
    "    \"\"\"\n",
    "    fig, ax = plt.subplots(1,1,figsize=(20,5))\n",
    "\n",
    "    sns.barplot(list(range(nr_top_words)), df['count'].values[:nr_top_words], palette='hls', ax=ax)\n",
    "\n",
    "    ax.set_xticks(list(range(nr_top_words)))\n",
    "    ax.set_xticklabels(df.index[:nr_top_words], fontsize=14, rotation=90)\n",
    "    return ax\n",
    "    \n",
    "ax = word_frequency_barplot(tokenized_only_df)\n",
    "ax.set_title(\"Word Frequencies\", fontsize=16);"
   ]
  },
  {
   "cell_type": "code",
   "execution_count": 44,
   "id": "8ebcc792",
   "metadata": {},
   "outputs": [
    {
     "name": "stderr",
     "output_type": "stream",
     "text": [
      "[nltk_data] Downloading package stopwords to\n",
      "[nltk_data]     /Users/chiragrastogi/nltk_data...\n",
      "[nltk_data]   Package stopwords is already up-to-date!\n"
     ]
    },
    {
     "data": {
      "text/plain": [
       "True"
      ]
     },
     "execution_count": 44,
     "metadata": {},
     "output_type": "execute_result"
    }
   ],
   "source": [
    "nltk.download('stopwords')"
   ]
  },
  {
   "cell_type": "code",
   "execution_count": 46,
   "id": "728bab9d",
   "metadata": {},
   "outputs": [],
   "source": [
    "# nltk.download('stopwords')\n",
    "our_special_word = '#'\n",
    "def remove_stopwords(df):\n",
    "    \"\"\" Removes stopwords based on a known set of stopwords\n",
    "    available in the nltk package. In addition, we include our\n",
    "    made up word in here.\n",
    "    \"\"\"\n",
    "    # Luckily nltk already has a set of stopwords that we can remove from the texts.\n",
    "    stopwords = nltk.corpus.stopwords.words('english')\n",
    "    # we'll add our own special word in here 'qwerty'\n",
    "    stopwords.append(our_special_word)\n",
    "\n",
    "    df['stopwords_removed'] = list(map(lambda doc:\n",
    "                                       [word for word in doc if word not in stopwords],\n",
    "                                       df['tokenized_text']))\n",
    "\n",
    "remove_stopwords(train_data)"
   ]
  },
  {
   "cell_type": "code",
   "execution_count": 48,
   "id": "19b15b8b",
   "metadata": {},
   "outputs": [
    {
     "name": "stderr",
     "output_type": "stream",
     "text": [
      "[nltk_data] Downloading package wordnet to\n",
      "[nltk_data]     /Users/chiragrastogi/nltk_data...\n"
     ]
    },
    {
     "data": {
      "text/plain": [
       "True"
      ]
     },
     "execution_count": 48,
     "metadata": {},
     "output_type": "execute_result"
    }
   ],
   "source": [
    "nltk.download('wordnet')"
   ]
  },
  {
   "cell_type": "code",
   "execution_count": 49,
   "id": "7916059e",
   "metadata": {},
   "outputs": [
    {
     "name": "stderr",
     "output_type": "stream",
     "text": [
      "[nltk_data] Downloading package omw-1.4 to\n",
      "[nltk_data]     /Users/chiragrastogi/nltk_data...\n"
     ]
    }
   ],
   "source": [
    "# nltk.download('wordnet')\n",
    "nltk.download('omw-1.4')\n",
    "def stem_words(df):\n",
    "    lemm = nltk.stem.WordNetLemmatizer()\n",
    "    df['lemmatized_text'] = list(map(lambda sentence:\n",
    "                                     list(map(lemm.lemmatize, sentence)),\n",
    "                                     df.stopwords_removed))\n",
    "\n",
    "    p_stemmer = nltk.stem.porter.PorterStemmer()\n",
    "    df['stemmed_text'] = list(map(lambda sentence:\n",
    "                                  list(map(p_stemmer.stem, sentence)),\n",
    "                                  df.lemmatized_text))\n",
    "\n",
    "stem_words(train_data)"
   ]
  },
  {
   "cell_type": "code",
   "execution_count": 50,
   "id": "a338f286",
   "metadata": {},
   "outputs": [
    {
     "name": "stdout",
     "output_type": "stream",
     "text": [
      "Found 7153 words.\n"
     ]
    }
   ],
   "source": [
    "dictionary = Dictionary(documents=train_data.stemmed_text.values)\n",
    "\n",
    "print(\"Found {} words.\".format(len(dictionary.values())))"
   ]
  },
  {
   "cell_type": "code",
   "execution_count": 51,
   "id": "8274eb48",
   "metadata": {},
   "outputs": [
    {
     "name": "stdout",
     "output_type": "stream",
     "text": [
      "Left with 3806 words.\n"
     ]
    }
   ],
   "source": [
    "dictionary.filter_extremes(no_above=0.8, no_below=2)\n",
    "\n",
    "dictionary.compactify()  # Reindexes the remaining words after filtering\n",
    "print(\"Left with {} words.\".format(len(dictionary.values())))"
   ]
  },
  {
   "cell_type": "code",
   "execution_count": 52,
   "id": "0eee1f82",
   "metadata": {},
   "outputs": [],
   "source": [
    "#Make a BOW for every document\n",
    "def document_to_bow(df):\n",
    "    df['bow'] = list(map(lambda doc: dictionary.doc2bow(doc), df.stemmed_text))\n",
    "    \n",
    "document_to_bow(train_data)"
   ]
  },
  {
   "cell_type": "code",
   "execution_count": null,
   "id": "2b26a183",
   "metadata": {},
   "outputs": [],
   "source": [
    "def lda_preprocessing(df):\n",
    "    \"\"\" All the preprocessing steps for LDA are combined in this function.\n",
    "    All mutations are done on the dataframe itself. So this function returns\n",
    "    nothing.\n",
    "    \"\"\"\n",
    "    lda_get_good_tokens(df)\n",
    "    remove_stopwords(df)\n",
    "    stem_words(df)\n",
    "    document_to_bow(df)"
   ]
  },
  {
   "cell_type": "code",
   "execution_count": 54,
   "id": "96d8f747",
   "metadata": {},
   "outputs": [],
   "source": [
    "cleansed_words_df = pd.DataFrame.from_dict(dictionary.token2id, orient='index')\n",
    "cleansed_words_df.rename(columns={0: 'id'}, inplace=True)\n",
    "\n",
    "cleansed_words_df['count'] = list(map(lambda id_: dictionary.dfs.get(id_), cleansed_words_df.id))\n",
    "del cleansed_words_df['id']"
   ]
  },
  {
   "cell_type": "code",
   "execution_count": 56,
   "id": "94f07692",
   "metadata": {},
   "outputs": [],
   "source": [
    "cleansed_words_df.sort_values('count', ascending=False, inplace=True)"
   ]
  },
  {
   "cell_type": "code",
   "execution_count": 57,
   "id": "e54b53f3",
   "metadata": {},
   "outputs": [
    {
     "name": "stderr",
     "output_type": "stream",
     "text": [
      "/Users/chiragrastogi/opt/anaconda3/lib/python3.9/site-packages/seaborn/_decorators.py:36: FutureWarning: Pass the following variables as keyword args: x, y. From version 0.12, the only valid positional argument will be `data`, and passing other arguments without an explicit keyword will result in an error or misinterpretation.\n",
      "  warnings.warn(\n"
     ]
    },
    {
     "data": {
      "image/png": "[encoded data removed]",
      "text/plain": [
       "<Figure size 1440x360 with 1 Axes>"
      ]
     },
     "metadata": {},
     "output_type": "display_data"
    }
   ],
   "source": [
    "ax = word_frequency_barplot(cleansed_words_df)\n",
    "ax.set_title(\"Document Frequencies (Number of documents a word appears in)\", fontsize=16);"
   ]
  },
  {
   "cell_type": "code",
   "execution_count": 53,
   "id": "facc23cf",
   "metadata": {},
   "outputs": [
    {
     "data": {
      "text/html": [
       "<div>\n",
       "<style scoped>\n",
       "    .dataframe tbody tr th:only-of-type {\n",
       "        vertical-align: middle;\n",
       "    }\n",
       "\n",
       "    .dataframe tbody tr th {\n",
       "        vertical-align: top;\n",
       "    }\n",
       "\n",
       "    .dataframe thead th {\n",
       "        text-align: right;\n",
       "    }\n",
       "</style>\n",
       "<table border=\"1\" class=\"dataframe\">\n",
       "  <thead>\n",
       "    <tr style=\"text-align: right;\">\n",
       "      <th></th>\n",
       "      <th>id</th>\n",
       "      <th>text</th>\n",
       "      <th>author</th>\n",
       "      <th>document_sentences</th>\n",
       "      <th>tokenized_sentences</th>\n",
       "      <th>tokenized_text</th>\n",
       "      <th>stopwords_removed</th>\n",
       "      <th>lemmatized_text</th>\n",
       "      <th>stemmed_text</th>\n",
       "      <th>bow</th>\n",
       "    </tr>\n",
       "  </thead>\n",
       "  <tbody>\n",
       "    <tr>\n",
       "      <th>0</th>\n",
       "      <td>897575377336148008</td>\n",
       "      <td>@everyone just a quick reminder that our meeti...</td>\n",
       "      <td>UIUC GeoClub</td>\n",
       "      <td>[@everyone just a quick reminder that our meet...</td>\n",
       "      <td>[[everyone, just, a, quick, reminder, that, ou...</td>\n",
       "      <td>[everyone, just, a, quick, reminder, that, our...</td>\n",
       "      <td>[everyone, quick, reminder, meeting, today, 53...</td>\n",
       "      <td>[everyone, quick, reminder, meeting, today, 53...</td>\n",
       "      <td>[everyon, quick, remind, meet, today, 530pm, c...</td>\n",
       "      <td>[(0, 3), (1, 1), (2, 2), (3, 1), (4, 1), (5, 1...</td>\n",
       "    </tr>\n",
       "    <tr>\n",
       "      <th>1</th>\n",
       "      <td>897909470028529684</td>\n",
       "      <td>@everyone just a reminder to that our kickapoo...</td>\n",
       "      <td>UIUC GeoClub</td>\n",
       "      <td>[@everyone just a reminder to that our kickapo...</td>\n",
       "      <td>[[everyone, just, a, reminder, to, that, our, ...</td>\n",
       "      <td>[everyone, just, a, reminder, to, that, our, k...</td>\n",
       "      <td>[everyone, reminder, kickapoo, hiking, trip, s...</td>\n",
       "      <td>[everyone, reminder, kickapoo, hiking, trip, s...</td>\n",
       "      <td>[everyon, remind, kickapoo, hike, trip, saturd...</td>\n",
       "      <td>[(0, 2), (6, 1), (14, 1), (20, 1), (21, 1), (2...</td>\n",
       "    </tr>\n",
       "    <tr>\n",
       "      <th>2</th>\n",
       "      <td>901966694635954236</td>\n",
       "      <td>@everyone  we are having some technical diffic...</td>\n",
       "      <td>UIUC GeoClub</td>\n",
       "      <td>[@everyone  we are having some technical diffi...</td>\n",
       "      <td>[[everyone, we, are, having, some, technical, ...</td>\n",
       "      <td>[everyone, we, are, having, some, technical, d...</td>\n",
       "      <td>[everyone, technical, difficulties, geoclub, e...</td>\n",
       "      <td>[everyone, technical, difficulty, geoclub, ema...</td>\n",
       "      <td>[everyon, technic, difficulti, geoclub, email,...</td>\n",
       "      <td>[(0, 15), (2, 1), (6, 1), (10, 1), (11, 1), (2...</td>\n",
       "    </tr>\n",
       "    <tr>\n",
       "      <th>3</th>\n",
       "      <td>935259795005509652</td>\n",
       "      <td>@everyone hi everyone! if you haven't heard al...</td>\n",
       "      <td>UIUC GeoClub</td>\n",
       "      <td>[@everyone hi everyone! if you haven't heard a...</td>\n",
       "      <td>[[everyone, hi, everyone, !, if, you, have, nt...</td>\n",
       "      <td>[everyone, hi, everyone, !, if, you, have, nt,...</td>\n",
       "      <td>[everyone, hi, everyone, !, nt, heard, already...</td>\n",
       "      <td>[everyone, hi, everyone, !, nt, heard, already...</td>\n",
       "      <td>[everyon, hi, everyon, !, nt, heard, alreadi, ...</td>\n",
       "      <td>[(0, 3), (3, 1), (6, 2), (18, 1), (29, 1), (66...</td>\n",
       "    </tr>\n",
       "    <tr>\n",
       "      <th>4</th>\n",
       "      <td>940631562272268329</td>\n",
       "      <td>@everyone just a quick reminder that the first...</td>\n",
       "      <td>UIUC GeoClub</td>\n",
       "      <td>[@everyone just a quick reminder that the firs...</td>\n",
       "      <td>[[everyone, just, a, quick, reminder, that, th...</td>\n",
       "      <td>[everyone, just, a, quick, reminder, that, the...</td>\n",
       "      <td>[everyone, quick, reminder, first, meeting, ge...</td>\n",
       "      <td>[everyone, quick, reminder, first, meeting, ge...</td>\n",
       "      <td>[everyon, quick, remind, first, meet, geoclub,...</td>\n",
       "      <td>[(0, 1), (4, 1), (6, 1), (10, 1), (13, 1), (14...</td>\n",
       "    </tr>\n",
       "    <tr>\n",
       "      <th>...</th>\n",
       "      <td>...</td>\n",
       "      <td>...</td>\n",
       "      <td>...</td>\n",
       "      <td>...</td>\n",
       "      <td>...</td>\n",
       "      <td>...</td>\n",
       "      <td>...</td>\n",
       "      <td>...</td>\n",
       "      <td>...</td>\n",
       "      <td>...</td>\n",
       "    </tr>\n",
       "    <tr>\n",
       "      <th>1941</th>\n",
       "      <td>971904632676818944</td>\n",
       "      <td>u guys good with going at 7 tomorrow? or 6? # ...</td>\n",
       "      <td>loanly</td>\n",
       "      <td>[u guys good with going at 7 tomorrow? or 6? #...</td>\n",
       "      <td>[[u, guys, good, with, going, at, 7, tomorrow,...</td>\n",
       "      <td>[u, guys, good, with, going, at, 7, tomorrow, ...</td>\n",
       "      <td>[u, guys, good, going, 7, tomorrow, ?, 6, ?, f...</td>\n",
       "      <td>[u, guy, good, going, 7, tomorrow, ?, 6, ?, fl...</td>\n",
       "      <td>[u, guy, good, go, 7, tomorrow, ?, 6, ?, flexi...</td>\n",
       "      <td>[(81, 1), (84, 1), (96, 1), (120, 1), (143, 1)...</td>\n",
       "    </tr>\n",
       "    <tr>\n",
       "      <th>1942</th>\n",
       "      <td>972020510194036807</td>\n",
       "      <td>7 pm tomorrow</td>\n",
       "      <td>loanly</td>\n",
       "      <td>[7 pm tomorrow]</td>\n",
       "      <td>[[7, pm, tomorrow]]</td>\n",
       "      <td>[7, pm, tomorrow]</td>\n",
       "      <td>[7, pm, tomorrow]</td>\n",
       "      <td>[7, pm, tomorrow]</td>\n",
       "      <td>[7, pm, tomorrow]</td>\n",
       "      <td>[(104, 1), (159, 1), (196, 1)]</td>\n",
       "    </tr>\n",
       "    <tr>\n",
       "      <th>1943</th>\n",
       "      <td>974387641237778502</td>\n",
       "      <td>i got an astronomy test at 8 am tomorrow man</td>\n",
       "      <td>loanly</td>\n",
       "      <td>[i got an astronomy test at 8 am tomorrow man]</td>\n",
       "      <td>[[i, got, an, astronomy, test, at, 8, am, tomo...</td>\n",
       "      <td>[i, got, an, astronomy, test, at, 8, am, tomor...</td>\n",
       "      <td>[got, astronomy, test, 8, tomorrow, man]</td>\n",
       "      <td>[got, astronomy, test, 8, tomorrow, man]</td>\n",
       "      <td>[got, astronomi, test, 8, tomorrow, man]</td>\n",
       "      <td>[(196, 1), (320, 1), (343, 1), (354, 1), (468,...</td>\n",
       "    </tr>\n",
       "    <tr>\n",
       "      <th>1944</th>\n",
       "      <td>974771470377037944</td>\n",
       "      <td>i'm just planning to leave before 3 pm tomorrow</td>\n",
       "      <td>loanly</td>\n",
       "      <td>[i'm just planning to leave before 3 pm tomorrow]</td>\n",
       "      <td>[[i, m, just, planning, to, leave, before, 3, ...</td>\n",
       "      <td>[i, m, just, planning, to, leave, before, 3, p...</td>\n",
       "      <td>[planning, leave, 3, pm, tomorrow]</td>\n",
       "      <td>[planning, leave, 3, pm, tomorrow]</td>\n",
       "      <td>[plan, leav, 3, pm, tomorrow]</td>\n",
       "      <td>[(29, 1), (104, 1), (123, 1), (196, 1), (811, 1)]</td>\n",
       "    </tr>\n",
       "    <tr>\n",
       "      <th>1945</th>\n",
       "      <td>974836589215764500</td>\n",
       "      <td>i'm leaving at 11am tomorrow</td>\n",
       "      <td>loanly</td>\n",
       "      <td>[i'm leaving at 11am tomorrow]</td>\n",
       "      <td>[[i, m, leaving, at, 11am, tomorrow]]</td>\n",
       "      <td>[i, m, leaving, at, 11am, tomorrow]</td>\n",
       "      <td>[leaving, 11am, tomorrow]</td>\n",
       "      <td>[leaving, 11am, tomorrow]</td>\n",
       "      <td>[leav, 11am, tomorrow]</td>\n",
       "      <td>[(196, 1), (811, 1), (1441, 1)]</td>\n",
       "    </tr>\n",
       "  </tbody>\n",
       "</table>\n",
       "<p>1946 rows × 10 columns</p>\n",
       "</div>"
      ],
      "text/plain": [
       "                      id                                               text  \\\n",
       "0     897575377336148008  @everyone just a quick reminder that our meeti...   \n",
       "1     897909470028529684  @everyone just a reminder to that our kickapoo...   \n",
       "2     901966694635954236  @everyone  we are having some technical diffic...   \n",
       "3     935259795005509652  @everyone hi everyone! if you haven't heard al...   \n",
       "4     940631562272268329  @everyone just a quick reminder that the first...   \n",
       "...                  ...                                                ...   \n",
       "1941  971904632676818944  u guys good with going at 7 tomorrow? or 6? # ...   \n",
       "1942  972020510194036807                                      7 pm tomorrow   \n",
       "1943  974387641237778502       i got an astronomy test at 8 am tomorrow man   \n",
       "1944  974771470377037944    i'm just planning to leave before 3 pm tomorrow   \n",
       "1945  974836589215764500                       i'm leaving at 11am tomorrow   \n",
       "\n",
       "            author                                 document_sentences  \\\n",
       "0     UIUC GeoClub  [@everyone just a quick reminder that our meet...   \n",
       "1     UIUC GeoClub  [@everyone just a reminder to that our kickapo...   \n",
       "2     UIUC GeoClub  [@everyone  we are having some technical diffi...   \n",
       "3     UIUC GeoClub  [@everyone hi everyone! if you haven't heard a...   \n",
       "4     UIUC GeoClub  [@everyone just a quick reminder that the firs...   \n",
       "...            ...                                                ...   \n",
       "1941        loanly  [u guys good with going at 7 tomorrow? or 6? #...   \n",
       "1942        loanly                                    [7 pm tomorrow]   \n",
       "1943        loanly     [i got an astronomy test at 8 am tomorrow man]   \n",
       "1944        loanly  [i'm just planning to leave before 3 pm tomorrow]   \n",
       "1945        loanly                     [i'm leaving at 11am tomorrow]   \n",
       "\n",
       "                                    tokenized_sentences  \\\n",
       "0     [[everyone, just, a, quick, reminder, that, ou...   \n",
       "1     [[everyone, just, a, reminder, to, that, our, ...   \n",
       "2     [[everyone, we, are, having, some, technical, ...   \n",
       "3     [[everyone, hi, everyone, !, if, you, have, nt...   \n",
       "4     [[everyone, just, a, quick, reminder, that, th...   \n",
       "...                                                 ...   \n",
       "1941  [[u, guys, good, with, going, at, 7, tomorrow,...   \n",
       "1942                                [[7, pm, tomorrow]]   \n",
       "1943  [[i, got, an, astronomy, test, at, 8, am, tomo...   \n",
       "1944  [[i, m, just, planning, to, leave, before, 3, ...   \n",
       "1945              [[i, m, leaving, at, 11am, tomorrow]]   \n",
       "\n",
       "                                         tokenized_text  \\\n",
       "0     [everyone, just, a, quick, reminder, that, our...   \n",
       "1     [everyone, just, a, reminder, to, that, our, k...   \n",
       "2     [everyone, we, are, having, some, technical, d...   \n",
       "3     [everyone, hi, everyone, !, if, you, have, nt,...   \n",
       "4     [everyone, just, a, quick, reminder, that, the...   \n",
       "...                                                 ...   \n",
       "1941  [u, guys, good, with, going, at, 7, tomorrow, ...   \n",
       "1942                                  [7, pm, tomorrow]   \n",
       "1943  [i, got, an, astronomy, test, at, 8, am, tomor...   \n",
       "1944  [i, m, just, planning, to, leave, before, 3, p...   \n",
       "1945                [i, m, leaving, at, 11am, tomorrow]   \n",
       "\n",
       "                                      stopwords_removed  \\\n",
       "0     [everyone, quick, reminder, meeting, today, 53...   \n",
       "1     [everyone, reminder, kickapoo, hiking, trip, s...   \n",
       "2     [everyone, technical, difficulties, geoclub, e...   \n",
       "3     [everyone, hi, everyone, !, nt, heard, already...   \n",
       "4     [everyone, quick, reminder, first, meeting, ge...   \n",
       "...                                                 ...   \n",
       "1941  [u, guys, good, going, 7, tomorrow, ?, 6, ?, f...   \n",
       "1942                                  [7, pm, tomorrow]   \n",
       "1943           [got, astronomy, test, 8, tomorrow, man]   \n",
       "1944                 [planning, leave, 3, pm, tomorrow]   \n",
       "1945                          [leaving, 11am, tomorrow]   \n",
       "\n",
       "                                        lemmatized_text  \\\n",
       "0     [everyone, quick, reminder, meeting, today, 53...   \n",
       "1     [everyone, reminder, kickapoo, hiking, trip, s...   \n",
       "2     [everyone, technical, difficulty, geoclub, ema...   \n",
       "3     [everyone, hi, everyone, !, nt, heard, already...   \n",
       "4     [everyone, quick, reminder, first, meeting, ge...   \n",
       "...                                                 ...   \n",
       "1941  [u, guy, good, going, 7, tomorrow, ?, 6, ?, fl...   \n",
       "1942                                  [7, pm, tomorrow]   \n",
       "1943           [got, astronomy, test, 8, tomorrow, man]   \n",
       "1944                 [planning, leave, 3, pm, tomorrow]   \n",
       "1945                          [leaving, 11am, tomorrow]   \n",
       "\n",
       "                                           stemmed_text  \\\n",
       "0     [everyon, quick, remind, meet, today, 530pm, c...   \n",
       "1     [everyon, remind, kickapoo, hike, trip, saturd...   \n",
       "2     [everyon, technic, difficulti, geoclub, email,...   \n",
       "3     [everyon, hi, everyon, !, nt, heard, alreadi, ...   \n",
       "4     [everyon, quick, remind, first, meet, geoclub,...   \n",
       "...                                                 ...   \n",
       "1941  [u, guy, good, go, 7, tomorrow, ?, 6, ?, flexi...   \n",
       "1942                                  [7, pm, tomorrow]   \n",
       "1943           [got, astronomi, test, 8, tomorrow, man]   \n",
       "1944                      [plan, leav, 3, pm, tomorrow]   \n",
       "1945                             [leav, 11am, tomorrow]   \n",
       "\n",
       "                                                    bow  \n",
       "0     [(0, 3), (1, 1), (2, 2), (3, 1), (4, 1), (5, 1...  \n",
       "1     [(0, 2), (6, 1), (14, 1), (20, 1), (21, 1), (2...  \n",
       "2     [(0, 15), (2, 1), (6, 1), (10, 1), (11, 1), (2...  \n",
       "3     [(0, 3), (3, 1), (6, 2), (18, 1), (29, 1), (66...  \n",
       "4     [(0, 1), (4, 1), (6, 1), (10, 1), (13, 1), (14...  \n",
       "...                                                 ...  \n",
       "1941  [(81, 1), (84, 1), (96, 1), (120, 1), (143, 1)...  \n",
       "1942                     [(104, 1), (159, 1), (196, 1)]  \n",
       "1943  [(196, 1), (320, 1), (343, 1), (354, 1), (468,...  \n",
       "1944  [(29, 1), (104, 1), (123, 1), (196, 1), (811, 1)]  \n",
       "1945                    [(196, 1), (811, 1), (1441, 1)]  \n",
       "\n",
       "[1946 rows x 10 columns]"
      ]
     },
     "execution_count": 53,
     "metadata": {},
     "output_type": "execute_result"
    }
   ],
   "source": [
    "train_data"
   ]
  },
  {
   "cell_type": "code",
   "execution_count": 59,
   "id": "be25ed43",
   "metadata": {},
   "outputs": [],
   "source": [
    "corpus = train_data.bow"
   ]
  },
  {
   "cell_type": "code",
   "execution_count": 60,
   "id": "76a6b4c2",
   "metadata": {},
   "outputs": [
    {
     "data": {
      "text/plain": [
       "0       [(0, 3), (1, 1), (2, 2), (3, 1), (4, 1), (5, 1...\n",
       "1       [(0, 2), (6, 1), (14, 1), (20, 1), (21, 1), (2...\n",
       "2       [(0, 15), (2, 1), (6, 1), (10, 1), (11, 1), (2...\n",
       "3       [(0, 3), (3, 1), (6, 2), (18, 1), (29, 1), (66...\n",
       "4       [(0, 1), (4, 1), (6, 1), (10, 1), (13, 1), (14...\n",
       "                              ...                        \n",
       "1941    [(81, 1), (84, 1), (96, 1), (120, 1), (143, 1)...\n",
       "1942                       [(104, 1), (159, 1), (196, 1)]\n",
       "1943    [(196, 1), (320, 1), (343, 1), (354, 1), (468,...\n",
       "1944    [(29, 1), (104, 1), (123, 1), (196, 1), (811, 1)]\n",
       "1945                      [(196, 1), (811, 1), (1441, 1)]\n",
       "Name: bow, Length: 1946, dtype: object"
      ]
     },
     "execution_count": 60,
     "metadata": {},
     "output_type": "execute_result"
    }
   ],
   "source": [
    "corpus"
   ]
  },
  {
   "cell_type": "code",
   "execution_count": 61,
   "id": "11b2ae80",
   "metadata": {},
   "outputs": [
    {
     "name": "stdout",
     "output_type": "stream",
     "text": [
      "CPU times: user 4.47 s, sys: 384 ms, total: 4.85 s\n",
      "Wall time: 10.5 s\n"
     ]
    }
   ],
   "source": [
    "%%time\n",
    "num_topics = 10\n",
    "#A multicore approach to decrease training time\n",
    "LDAmodel = LdaMulticore(corpus=corpus,\n",
    "                        id2word=dictionary,\n",
    "                        num_topics=num_topics,\n",
    "                        workers=4,\n",
    "                        chunksize=4000,\n",
    "                        passes=7,\n",
    "                        alpha='asymmetric')"
   ]
  },
  {
   "cell_type": "code",
   "execution_count": 62,
   "id": "953f9538",
   "metadata": {},
   "outputs": [],
   "source": [
    "def document_to_lda_features(lda_model, document):\n",
    "    \"\"\" Transforms a bag of words document to features.\n",
    "    It returns the proportion of how much each topic was\n",
    "    present in the document.\n",
    "    \"\"\"\n",
    "    topic_importances = LDAmodel.get_document_topics(document, minimum_probability=0)\n",
    "    topic_importances = np.array(topic_importances)\n",
    "    return topic_importances[:,1]\n",
    "\n",
    "train_data['lda_features'] = list(map(lambda doc:\n",
    "                                      document_to_lda_features(LDAmodel, doc),\n",
    "                                      train_data.bow))\n"
   ]
  },
  {
   "cell_type": "code",
   "execution_count": 63,
   "id": "4e281cb0",
   "metadata": {},
   "outputs": [
    {
     "data": {
      "text/html": [
       "<div>\n",
       "<style scoped>\n",
       "    .dataframe tbody tr th:only-of-type {\n",
       "        vertical-align: middle;\n",
       "    }\n",
       "\n",
       "    .dataframe tbody tr th {\n",
       "        vertical-align: top;\n",
       "    }\n",
       "\n",
       "    .dataframe thead th {\n",
       "        text-align: right;\n",
       "    }\n",
       "</style>\n",
       "<table border=\"1\" class=\"dataframe\">\n",
       "  <thead>\n",
       "    <tr style=\"text-align: right;\">\n",
       "      <th></th>\n",
       "      <th>id</th>\n",
       "      <th>text</th>\n",
       "      <th>author</th>\n",
       "      <th>document_sentences</th>\n",
       "      <th>tokenized_sentences</th>\n",
       "      <th>tokenized_text</th>\n",
       "      <th>stopwords_removed</th>\n",
       "      <th>lemmatized_text</th>\n",
       "      <th>stemmed_text</th>\n",
       "      <th>bow</th>\n",
       "      <th>lda_features</th>\n",
       "    </tr>\n",
       "  </thead>\n",
       "  <tbody>\n",
       "    <tr>\n",
       "      <th>0</th>\n",
       "      <td>897575377336148008</td>\n",
       "      <td>@everyone just a quick reminder that our meeti...</td>\n",
       "      <td>UIUC GeoClub</td>\n",
       "      <td>[@everyone just a quick reminder that our meet...</td>\n",
       "      <td>[[everyone, just, a, quick, reminder, that, ou...</td>\n",
       "      <td>[everyone, just, a, quick, reminder, that, our...</td>\n",
       "      <td>[everyone, quick, reminder, meeting, today, 53...</td>\n",
       "      <td>[everyone, quick, reminder, meeting, today, 53...</td>\n",
       "      <td>[everyon, quick, remind, meet, today, 530pm, c...</td>\n",
       "      <td>[(0, 3), (1, 1), (2, 2), (3, 1), (4, 1), (5, 1...</td>\n",
       "      <td>[0.008018451742827892, 0.005981671158224344, 0...</td>\n",
       "    </tr>\n",
       "    <tr>\n",
       "      <th>1</th>\n",
       "      <td>897909470028529684</td>\n",
       "      <td>@everyone just a reminder to that our kickapoo...</td>\n",
       "      <td>UIUC GeoClub</td>\n",
       "      <td>[@everyone just a reminder to that our kickapo...</td>\n",
       "      <td>[[everyone, just, a, reminder, to, that, our, ...</td>\n",
       "      <td>[everyone, just, a, reminder, to, that, our, k...</td>\n",
       "      <td>[everyone, reminder, kickapoo, hiking, trip, s...</td>\n",
       "      <td>[everyone, reminder, kickapoo, hiking, trip, s...</td>\n",
       "      <td>[everyon, remind, kickapoo, hike, trip, saturd...</td>\n",
       "      <td>[(0, 2), (6, 1), (14, 1), (20, 1), (21, 1), (2...</td>\n",
       "      <td>[0.014812489971518517, 0.4245939552783966, 0.0...</td>\n",
       "    </tr>\n",
       "    <tr>\n",
       "      <th>2</th>\n",
       "      <td>901966694635954236</td>\n",
       "      <td>@everyone  we are having some technical diffic...</td>\n",
       "      <td>UIUC GeoClub</td>\n",
       "      <td>[@everyone  we are having some technical diffi...</td>\n",
       "      <td>[[everyone, we, are, having, some, technical, ...</td>\n",
       "      <td>[everyone, we, are, having, some, technical, d...</td>\n",
       "      <td>[everyone, technical, difficulties, geoclub, e...</td>\n",
       "      <td>[everyone, technical, difficulty, geoclub, ema...</td>\n",
       "      <td>[everyon, technic, difficulti, geoclub, email,...</td>\n",
       "      <td>[(0, 15), (2, 1), (6, 1), (10, 1), (11, 1), (2...</td>\n",
       "      <td>[0.0020475382916629314, 0.001538757118396461, ...</td>\n",
       "    </tr>\n",
       "    <tr>\n",
       "      <th>3</th>\n",
       "      <td>935259795005509652</td>\n",
       "      <td>@everyone hi everyone! if you haven't heard al...</td>\n",
       "      <td>UIUC GeoClub</td>\n",
       "      <td>[@everyone hi everyone! if you haven't heard a...</td>\n",
       "      <td>[[everyone, hi, everyone, !, if, you, have, nt...</td>\n",
       "      <td>[everyone, hi, everyone, !, if, you, have, nt,...</td>\n",
       "      <td>[everyone, hi, everyone, !, nt, heard, already...</td>\n",
       "      <td>[everyone, hi, everyone, !, nt, heard, already...</td>\n",
       "      <td>[everyon, hi, everyon, !, nt, heard, alreadi, ...</td>\n",
       "      <td>[(0, 3), (3, 1), (6, 2), (18, 1), (29, 1), (66...</td>\n",
       "      <td>[0.005794685333967209, 0.004317787010222673, 0...</td>\n",
       "    </tr>\n",
       "    <tr>\n",
       "      <th>4</th>\n",
       "      <td>940631562272268329</td>\n",
       "      <td>@everyone just a quick reminder that the first...</td>\n",
       "      <td>UIUC GeoClub</td>\n",
       "      <td>[@everyone just a quick reminder that the firs...</td>\n",
       "      <td>[[everyone, just, a, quick, reminder, that, th...</td>\n",
       "      <td>[everyone, just, a, quick, reminder, that, the...</td>\n",
       "      <td>[everyone, quick, reminder, first, meeting, ge...</td>\n",
       "      <td>[everyone, quick, reminder, first, meeting, ge...</td>\n",
       "      <td>[everyon, quick, remind, first, meet, geoclub,...</td>\n",
       "      <td>[(0, 1), (4, 1), (6, 1), (10, 1), (13, 1), (14...</td>\n",
       "      <td>[0.2011547088623047, 0.633321225643158, 0.0083...</td>\n",
       "    </tr>\n",
       "    <tr>\n",
       "      <th>...</th>\n",
       "      <td>...</td>\n",
       "      <td>...</td>\n",
       "      <td>...</td>\n",
       "      <td>...</td>\n",
       "      <td>...</td>\n",
       "      <td>...</td>\n",
       "      <td>...</td>\n",
       "      <td>...</td>\n",
       "      <td>...</td>\n",
       "      <td>...</td>\n",
       "      <td>...</td>\n",
       "    </tr>\n",
       "    <tr>\n",
       "      <th>1941</th>\n",
       "      <td>971904632676818944</td>\n",
       "      <td>u guys good with going at 7 tomorrow? or 6? # ...</td>\n",
       "      <td>loanly</td>\n",
       "      <td>[u guys good with going at 7 tomorrow? or 6? #...</td>\n",
       "      <td>[[u, guys, good, with, going, at, 7, tomorrow,...</td>\n",
       "      <td>[u, guys, good, with, going, at, 7, tomorrow, ...</td>\n",
       "      <td>[u, guys, good, going, 7, tomorrow, ?, 6, ?, f...</td>\n",
       "      <td>[u, guy, good, going, 7, tomorrow, ?, 6, ?, fl...</td>\n",
       "      <td>[u, guy, good, go, 7, tomorrow, ?, 6, ?, flexi...</td>\n",
       "      <td>[(81, 1), (84, 1), (96, 1), (120, 1), (143, 1)...</td>\n",
       "      <td>[0.01608503982424736, 0.30357199907302856, 0.0...</td>\n",
       "    </tr>\n",
       "    <tr>\n",
       "      <th>1942</th>\n",
       "      <td>972020510194036807</td>\n",
       "      <td>7 pm tomorrow</td>\n",
       "      <td>loanly</td>\n",
       "      <td>[7 pm tomorrow]</td>\n",
       "      <td>[[7, pm, tomorrow]]</td>\n",
       "      <td>[7, pm, tomorrow]</td>\n",
       "      <td>[7, pm, tomorrow]</td>\n",
       "      <td>[7, pm, tomorrow]</td>\n",
       "      <td>[7, pm, tomorrow]</td>\n",
       "      <td>[(104, 1), (159, 1), (196, 1)]</td>\n",
       "      <td>[0.05161313712596893, 0.7878889441490173, 0.03...</td>\n",
       "    </tr>\n",
       "    <tr>\n",
       "      <th>1943</th>\n",
       "      <td>974387641237778502</td>\n",
       "      <td>i got an astronomy test at 8 am tomorrow man</td>\n",
       "      <td>loanly</td>\n",
       "      <td>[i got an astronomy test at 8 am tomorrow man]</td>\n",
       "      <td>[[i, got, an, astronomy, test, at, 8, am, tomo...</td>\n",
       "      <td>[i, got, an, astronomy, test, at, 8, am, tomor...</td>\n",
       "      <td>[got, astronomy, test, 8, tomorrow, man]</td>\n",
       "      <td>[got, astronomy, test, 8, tomorrow, man]</td>\n",
       "      <td>[got, astronomi, test, 8, tomorrow, man]</td>\n",
       "      <td>[(196, 1), (320, 1), (343, 1), (354, 1), (468,...</td>\n",
       "      <td>[0.029411785304546356, 0.022291148081421852, 0...</td>\n",
       "    </tr>\n",
       "    <tr>\n",
       "      <th>1944</th>\n",
       "      <td>974771470377037944</td>\n",
       "      <td>i'm just planning to leave before 3 pm tomorrow</td>\n",
       "      <td>loanly</td>\n",
       "      <td>[i'm just planning to leave before 3 pm tomorrow]</td>\n",
       "      <td>[[i, m, just, planning, to, leave, before, 3, ...</td>\n",
       "      <td>[i, m, just, planning, to, leave, before, 3, p...</td>\n",
       "      <td>[planning, leave, 3, pm, tomorrow]</td>\n",
       "      <td>[planning, leave, 3, pm, tomorrow]</td>\n",
       "      <td>[plan, leav, 3, pm, tomorrow]</td>\n",
       "      <td>[(29, 1), (104, 1), (123, 1), (196, 1), (811, 1)]</td>\n",
       "      <td>[0.6515675783157349, 0.2413797825574875, 0.020...</td>\n",
       "    </tr>\n",
       "    <tr>\n",
       "      <th>1945</th>\n",
       "      <td>974836589215764500</td>\n",
       "      <td>i'm leaving at 11am tomorrow</td>\n",
       "      <td>loanly</td>\n",
       "      <td>[i'm leaving at 11am tomorrow]</td>\n",
       "      <td>[[i, m, leaving, at, 11am, tomorrow]]</td>\n",
       "      <td>[i, m, leaving, at, 11am, tomorrow]</td>\n",
       "      <td>[leaving, 11am, tomorrow]</td>\n",
       "      <td>[leaving, 11am, tomorrow]</td>\n",
       "      <td>[leav, 11am, tomorrow]</td>\n",
       "      <td>[(196, 1), (811, 1), (1441, 1)]</td>\n",
       "      <td>[0.051878247410058975, 0.03892206400632858, 0....</td>\n",
       "    </tr>\n",
       "  </tbody>\n",
       "</table>\n",
       "<p>1946 rows × 11 columns</p>\n",
       "</div>"
      ],
      "text/plain": [
       "                      id                                               text  \\\n",
       "0     897575377336148008  @everyone just a quick reminder that our meeti...   \n",
       "1     897909470028529684  @everyone just a reminder to that our kickapoo...   \n",
       "2     901966694635954236  @everyone  we are having some technical diffic...   \n",
       "3     935259795005509652  @everyone hi everyone! if you haven't heard al...   \n",
       "4     940631562272268329  @everyone just a quick reminder that the first...   \n",
       "...                  ...                                                ...   \n",
       "1941  971904632676818944  u guys good with going at 7 tomorrow? or 6? # ...   \n",
       "1942  972020510194036807                                      7 pm tomorrow   \n",
       "1943  974387641237778502       i got an astronomy test at 8 am tomorrow man   \n",
       "1944  974771470377037944    i'm just planning to leave before 3 pm tomorrow   \n",
       "1945  974836589215764500                       i'm leaving at 11am tomorrow   \n",
       "\n",
       "            author                                 document_sentences  \\\n",
       "0     UIUC GeoClub  [@everyone just a quick reminder that our meet...   \n",
       "1     UIUC GeoClub  [@everyone just a reminder to that our kickapo...   \n",
       "2     UIUC GeoClub  [@everyone  we are having some technical diffi...   \n",
       "3     UIUC GeoClub  [@everyone hi everyone! if you haven't heard a...   \n",
       "4     UIUC GeoClub  [@everyone just a quick reminder that the firs...   \n",
       "...            ...                                                ...   \n",
       "1941        loanly  [u guys good with going at 7 tomorrow? or 6? #...   \n",
       "1942        loanly                                    [7 pm tomorrow]   \n",
       "1943        loanly     [i got an astronomy test at 8 am tomorrow man]   \n",
       "1944        loanly  [i'm just planning to leave before 3 pm tomorrow]   \n",
       "1945        loanly                     [i'm leaving at 11am tomorrow]   \n",
       "\n",
       "                                    tokenized_sentences  \\\n",
       "0     [[everyone, just, a, quick, reminder, that, ou...   \n",
       "1     [[everyone, just, a, reminder, to, that, our, ...   \n",
       "2     [[everyone, we, are, having, some, technical, ...   \n",
       "3     [[everyone, hi, everyone, !, if, you, have, nt...   \n",
       "4     [[everyone, just, a, quick, reminder, that, th...   \n",
       "...                                                 ...   \n",
       "1941  [[u, guys, good, with, going, at, 7, tomorrow,...   \n",
       "1942                                [[7, pm, tomorrow]]   \n",
       "1943  [[i, got, an, astronomy, test, at, 8, am, tomo...   \n",
       "1944  [[i, m, just, planning, to, leave, before, 3, ...   \n",
       "1945              [[i, m, leaving, at, 11am, tomorrow]]   \n",
       "\n",
       "                                         tokenized_text  \\\n",
       "0     [everyone, just, a, quick, reminder, that, our...   \n",
       "1     [everyone, just, a, reminder, to, that, our, k...   \n",
       "2     [everyone, we, are, having, some, technical, d...   \n",
       "3     [everyone, hi, everyone, !, if, you, have, nt,...   \n",
       "4     [everyone, just, a, quick, reminder, that, the...   \n",
       "...                                                 ...   \n",
       "1941  [u, guys, good, with, going, at, 7, tomorrow, ...   \n",
       "1942                                  [7, pm, tomorrow]   \n",
       "1943  [i, got, an, astronomy, test, at, 8, am, tomor...   \n",
       "1944  [i, m, just, planning, to, leave, before, 3, p...   \n",
       "1945                [i, m, leaving, at, 11am, tomorrow]   \n",
       "\n",
       "                                      stopwords_removed  \\\n",
       "0     [everyone, quick, reminder, meeting, today, 53...   \n",
       "1     [everyone, reminder, kickapoo, hiking, trip, s...   \n",
       "2     [everyone, technical, difficulties, geoclub, e...   \n",
       "3     [everyone, hi, everyone, !, nt, heard, already...   \n",
       "4     [everyone, quick, reminder, first, meeting, ge...   \n",
       "...                                                 ...   \n",
       "1941  [u, guys, good, going, 7, tomorrow, ?, 6, ?, f...   \n",
       "1942                                  [7, pm, tomorrow]   \n",
       "1943           [got, astronomy, test, 8, tomorrow, man]   \n",
       "1944                 [planning, leave, 3, pm, tomorrow]   \n",
       "1945                          [leaving, 11am, tomorrow]   \n",
       "\n",
       "                                        lemmatized_text  \\\n",
       "0     [everyone, quick, reminder, meeting, today, 53...   \n",
       "1     [everyone, reminder, kickapoo, hiking, trip, s...   \n",
       "2     [everyone, technical, difficulty, geoclub, ema...   \n",
       "3     [everyone, hi, everyone, !, nt, heard, already...   \n",
       "4     [everyone, quick, reminder, first, meeting, ge...   \n",
       "...                                                 ...   \n",
       "1941  [u, guy, good, going, 7, tomorrow, ?, 6, ?, fl...   \n",
       "1942                                  [7, pm, tomorrow]   \n",
       "1943           [got, astronomy, test, 8, tomorrow, man]   \n",
       "1944                 [planning, leave, 3, pm, tomorrow]   \n",
       "1945                          [leaving, 11am, tomorrow]   \n",
       "\n",
       "                                           stemmed_text  \\\n",
       "0     [everyon, quick, remind, meet, today, 530pm, c...   \n",
       "1     [everyon, remind, kickapoo, hike, trip, saturd...   \n",
       "2     [everyon, technic, difficulti, geoclub, email,...   \n",
       "3     [everyon, hi, everyon, !, nt, heard, alreadi, ...   \n",
       "4     [everyon, quick, remind, first, meet, geoclub,...   \n",
       "...                                                 ...   \n",
       "1941  [u, guy, good, go, 7, tomorrow, ?, 6, ?, flexi...   \n",
       "1942                                  [7, pm, tomorrow]   \n",
       "1943           [got, astronomi, test, 8, tomorrow, man]   \n",
       "1944                      [plan, leav, 3, pm, tomorrow]   \n",
       "1945                             [leav, 11am, tomorrow]   \n",
       "\n",
       "                                                    bow  \\\n",
       "0     [(0, 3), (1, 1), (2, 2), (3, 1), (4, 1), (5, 1...   \n",
       "1     [(0, 2), (6, 1), (14, 1), (20, 1), (21, 1), (2...   \n",
       "2     [(0, 15), (2, 1), (6, 1), (10, 1), (11, 1), (2...   \n",
       "3     [(0, 3), (3, 1), (6, 2), (18, 1), (29, 1), (66...   \n",
       "4     [(0, 1), (4, 1), (6, 1), (10, 1), (13, 1), (14...   \n",
       "...                                                 ...   \n",
       "1941  [(81, 1), (84, 1), (96, 1), (120, 1), (143, 1)...   \n",
       "1942                     [(104, 1), (159, 1), (196, 1)]   \n",
       "1943  [(196, 1), (320, 1), (343, 1), (354, 1), (468,...   \n",
       "1944  [(29, 1), (104, 1), (123, 1), (196, 1), (811, 1)]   \n",
       "1945                    [(196, 1), (811, 1), (1441, 1)]   \n",
       "\n",
       "                                           lda_features  \n",
       "0     [0.008018451742827892, 0.005981671158224344, 0...  \n",
       "1     [0.014812489971518517, 0.4245939552783966, 0.0...  \n",
       "2     [0.0020475382916629314, 0.001538757118396461, ...  \n",
       "3     [0.005794685333967209, 0.004317787010222673, 0...  \n",
       "4     [0.2011547088623047, 0.633321225643158, 0.0083...  \n",
       "...                                                 ...  \n",
       "1941  [0.01608503982424736, 0.30357199907302856, 0.0...  \n",
       "1942  [0.05161313712596893, 0.7878889441490173, 0.03...  \n",
       "1943  [0.029411785304546356, 0.022291148081421852, 0...  \n",
       "1944  [0.6515675783157349, 0.2413797825574875, 0.020...  \n",
       "1945  [0.051878247410058975, 0.03892206400632858, 0....  \n",
       "\n",
       "[1946 rows x 11 columns]"
      ]
     },
     "execution_count": 63,
     "metadata": {},
     "output_type": "execute_result"
    }
   ],
   "source": [
    "train_data"
   ]
  },
  {
   "cell_type": "code",
   "execution_count": 66,
   "id": "7d2954e2",
   "metadata": {},
   "outputs": [
    {
     "name": "stdout",
     "output_type": "stream",
     "text": [
      "[(0,\n",
      "  '0.060*\"!\" + 0.021*\"acm\" + 0.020*\"cst\" + 0.019*\"everyon\" + 0.017*\"today\" + '\n",
      "  '0.014*\"night\" + 0.014*\"join\" + 0.014*\"hour\" + 0.011*\"http\" + 0.011*\"pm\"'),\n",
      " (1,\n",
      "  '0.043*\"!\" + 0.040*\"meet\" + 0.035*\"everyon\" + 0.029*\"tonight\" + 0.018*\"pm\" + '\n",
      "  '0.017*\"6pm\" + 0.016*\"today\" + 0.016*\"remind\" + 0.012*\"time\" + '\n",
      "  '0.012*\"tomorrow\"'),\n",
      " (2,\n",
      "  '0.032*\"!\" + 0.017*\"event\" + 0.013*\"everyon\" + 0.011*\"start\" + 0.010*\"join\" '\n",
      "  '+ 0.009*\"make\" + 0.008*\"room\" + 0.008*\"come\" + 0.008*\"time\" + 0.007*\"get\"'),\n",
      " (3,\n",
      "  '0.046*\"!\" + 0.022*\"game\" + 0.020*\"meet\" + 0.018*\"everyon\" + 0.015*\"club\" + '\n",
      "  '0.012*\"pm\" + 0.012*\"time\" + 0.011*\"chess\" + 0.011*\"union\" + 0.011*\"illini\"'),\n",
      " (4,\n",
      "  '0.036*\"!\" + 0.019*\"vr\" + 0.011*\"club\" + 0.011*\"everyon\" + 0.011*\"pm\" + '\n",
      "  '0.010*\"u\" + 0.010*\"time\" + 0.008*\"http\" + 0.008*\"?\" + 0.007*\"today\"'),\n",
      " (5,\n",
      "  '0.053*\"!\" + 0.011*\"http\" + 0.009*\"friday\" + 0.009*\"go\" + 0.008*\"free\" + '\n",
      "  '0.008*\"everyon\" + 0.008*\"practic\" + 0.008*\"?\" + 0.008*\"hour\" + '\n",
      "  '0.007*\"open\"'),\n",
      " (6,\n",
      "  '0.052*\"!\" + 0.021*\"meet\" + 0.013*\"everyon\" + 0.009*\"come\" + 0.008*\"http\" + '\n",
      "  '0.008*\"event\" + 0.007*\"link\" + 0.007*\"get\" + 0.007*\"today\" + 0.007*\"make\"'),\n",
      " (7,\n",
      "  '0.024*\"!\" + 0.019*\"meet\" + 0.017*\"everyon\" + 0.014*\"event\" + 0.013*\"pm\" + '\n",
      "  '0.009*\"pleas\" + 0.009*\"see\" + 0.009*\"time\" + 0.009*\"center\" + 0.009*\"week\"'),\n",
      " (8,\n",
      "  '0.056*\"!\" + 0.022*\"pm\" + 0.017*\"http\" + 0.017*\"everyon\" + 0.015*\"event\" + '\n",
      "  '0.011*\"link\" + 0.011*\"cst\" + 0.010*\"time\" + 0.010*\"lobbi\" + 0.009*\"pleas\"'),\n",
      " (9,\n",
      "  '0.071*\"!\" + 0.014*\"everyon\" + 0.011*\"http\" + 0.009*\"game\" + 0.009*\"pleas\" + '\n",
      "  '0.008*\"illini\" + 0.008*\"esport\" + 0.008*\"event\" + 0.007*\"get\" + '\n",
      "  '0.007*\"lan\"')]\n"
     ]
    }
   ],
   "source": [
    "# Print the Keyword in the 10 topics\n",
    "pprint(LDAmodel.print_topics())\n",
    "doc_lda = LDAmodel[corpus]"
   ]
  },
  {
   "cell_type": "code",
   "execution_count": 72,
   "id": "5614fd0e",
   "metadata": {},
   "outputs": [
    {
     "ename": "NameError",
     "evalue": "name 'id2word' is not defined",
     "output_type": "error",
     "traceback": [
      "\u001b[0;31m---------------------------------------------------------------------------\u001b[0m",
      "\u001b[0;31mNameError\u001b[0m                                 Traceback (most recent call last)",
      "Input \u001b[0;32mIn [72]\u001b[0m, in \u001b[0;36m<cell line: 11>\u001b[0;34m()\u001b[0m\n\u001b[1;32m      9\u001b[0m \u001b[38;5;66;03m# # this is a bit time consuming - make the if statement True\u001b[39;00m\n\u001b[1;32m     10\u001b[0m \u001b[38;5;66;03m# # if you want to execute visualization prep yourself\u001b[39;00m\n\u001b[1;32m     11\u001b[0m \u001b[38;5;28;01mif\u001b[39;00m \u001b[38;5;241m1\u001b[39m \u001b[38;5;241m==\u001b[39m \u001b[38;5;241m1\u001b[39m:\n\u001b[0;32m---> 12\u001b[0m     LDAvis_prepared \u001b[38;5;241m=\u001b[39m pyLDAvis\u001b[38;5;241m.\u001b[39mgensim_models\u001b[38;5;241m.\u001b[39mprepare(LDAmodel, corpus, \u001b[43mid2word\u001b[49m)\n\u001b[1;32m     13\u001b[0m     \u001b[38;5;28;01mwith\u001b[39;00m \u001b[38;5;28mopen\u001b[39m(LDAvis_data_filepath, \u001b[38;5;124m'\u001b[39m\u001b[38;5;124mwb\u001b[39m\u001b[38;5;124m'\u001b[39m) \u001b[38;5;28;01mas\u001b[39;00m f:\n\u001b[1;32m     14\u001b[0m         pickle\u001b[38;5;241m.\u001b[39mdump(LDAvis_prepared, f)\n",
      "\u001b[0;31mNameError\u001b[0m: name 'id2word' is not defined"
     ]
    }
   ],
   "source": [
    "import pyLDAvis.gensim_models\n",
    "import pickle \n",
    "import pyLDAvis\n",
    "import os\n",
    "\n",
    "# Visualize the topics\n",
    "pyLDAvis.enable_notebook()\n",
    "LDAvis_data_filepath = os.path.join('./results/ldavis_prepared_'+str(num_topics))\n",
    "# # this is a bit time consuming - make the if statement True\n",
    "# # if you want to execute visualization prep yourself\n",
    "if 1 == 1:\n",
    "    LDAvis_prepared = pyLDAvis.gensim_models.prepare(LDAmodel, corpus, id2word)\n",
    "    with open(LDAvis_data_filepath, 'wb') as f:\n",
    "        pickle.dump(LDAvis_prepared, f)\n",
    "# load the pre-prepared pyLDAvis data from disk\n",
    "with open(LDAvis_data_filepath, 'rb') as f:\n",
    "    LDAvis_prepared = pickle.load(f)\n",
    "pyLDAvis.save_html(LDAvis_prepared, './results/ldavis_prepared_'+ str(num_topics) +'.html')\n",
    "LDAvis_prepared"
   ]
  },
  {
   "cell_type": "code",
   "execution_count": null,
   "id": "8af1d6e8",
   "metadata": {},
   "outputs": [],
   "source": []
  }
 ],
 "metadata": {
  "kernelspec": {
   "display_name": "Python 3 (ipykernel)",
   "language": "python",
   "name": "python3"
  },
  "language_info": {
   "codemirror_mode": {
    "name": "ipython",
    "version": 3
   },
   "file_extension": ".py",
   "mimetype": "text/x-python",
   "name": "python",
   "nbconvert_exporter": "python",
   "pygments_lexer": "ipython3",
   "version": "3.9.12"
  }
 },
 "nbformat": 4,
 "nbformat_minor": 5
}
